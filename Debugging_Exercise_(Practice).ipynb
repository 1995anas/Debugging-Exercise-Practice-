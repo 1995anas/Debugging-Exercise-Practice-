{
  "nbformat": 4,
  "nbformat_minor": 0,
  "metadata": {
    "colab": {
      "provenance": []
    },
    "kernelspec": {
      "name": "python3",
      "display_name": "Python 3"
    },
    "language_info": {
      "name": "python"
    }
  },
  "cells": [
    {
      "cell_type": "markdown",
      "source": [
        "# 👩‍🏫 Fixing common errors 📈\n",
        "- **Anas Abu Alhaija**\n",
        "\n",
        "In this assignment you will be debugging errors.\n",
        "\n",
        "To work in this notebook, first make a copy of this notebook by clicking on \"File\" and then clicking on \"Save a Copy in Drive\""
      ],
      "metadata": {
        "id": "jOePcaF_dlTB"
      }
    },
    {
      "cell_type": "markdown",
      "source": [
        "# Types of Errors\n",
        "## Syntax Errors:\n",
        "Syntax errors are the most basic type of error. They arise when the Python parser is unable to understand a line of code. Syntax errors are almost always fatal, i.e. there is almost never a way to successfully execute a piece of code containing syntax errors.\n",
        "\n",
        "## Logical Errors:\n",
        "These are the most difficult type of error to find, because they will give unpredictable results, but may or may not actually crash your program. A lot of different things can happen if you have a logic error."
      ],
      "metadata": {
        "id": "4qCHuR323Ylj"
      }
    },
    {
      "cell_type": "markdown",
      "source": [
        "# 💪 Your Job: Diagnose and debug the following code samples.\n"
      ],
      "metadata": {
        "id": "Lk-UnXZ2oT9G"
      }
    },
    {
      "cell_type": "markdown",
      "source": [
        "# Task 1"
      ],
      "metadata": {
        "id": "MX40r23hGBdj"
      }
    },
    {
      "cell_type": "code",
      "source": [
        "# Find and correct the error:\n",
        "Employee = 'Ingrid'\n",
        "print(employee)\n"
      ],
      "metadata": {
        "id": "fG3g5qVf8k7S"
      },
      "execution_count": null,
      "outputs": []
    },
    {
      "cell_type": "markdown",
      "source": [
        "The solution:"
      ],
      "metadata": {
        "id": "0ZS1dpgttDEg"
      }
    },
    {
      "cell_type": "code",
      "source": [
        "Employee = 'Ingrid'\n",
        "print(Employee)"
      ],
      "metadata": {
        "colab": {
          "base_uri": "https://localhost:8080/"
        },
        "id": "gv0snrfNs4S0",
        "outputId": "d77a9606-076b-4b92-c1eb-03f8f5fd6be4"
      },
      "execution_count": 35,
      "outputs": [
        {
          "output_type": "stream",
          "name": "stdout",
          "text": [
            "Ingrid\n"
          ]
        }
      ]
    },
    {
      "cell_type": "markdown",
      "source": [
        "# Task 2"
      ],
      "metadata": {
        "id": "5xytHNuDGNEW"
      }
    },
    {
      "cell_type": "code",
      "source": [
        "# Find and correct the error:\n",
        "candy_list = ['Snickers', 'Milky Way', 'Skittles'"
      ],
      "metadata": {
        "id": "l--0V67981oo"
      },
      "execution_count": null,
      "outputs": []
    },
    {
      "cell_type": "markdown",
      "source": [
        "The solution:"
      ],
      "metadata": {
        "id": "sqsy6GW5tiA0"
      }
    },
    {
      "cell_type": "code",
      "source": [
        "candy_list = ['Snickers', 'Milky Way', 'Skittles']"
      ],
      "metadata": {
        "id": "uNL2Lo2TtbKq"
      },
      "execution_count": 36,
      "outputs": []
    },
    {
      "cell_type": "markdown",
      "source": [
        "# Task 3"
      ],
      "metadata": {
        "id": "ScIpR6v9GO-0"
      }
    },
    {
      "cell_type": "code",
      "source": [
        "# Find and correct the error:\n",
        "a = 300\n",
        "if a > 100 & a < 1000:\n",
        "print(f'{a} is greater than 100 and less than 1000.')"
      ],
      "metadata": {
        "id": "6zu-5_s89S_i"
      },
      "execution_count": null,
      "outputs": []
    },
    {
      "cell_type": "markdown",
      "source": [
        "The solution:"
      ],
      "metadata": {
        "id": "rOL54jdBtxpu"
      }
    },
    {
      "cell_type": "code",
      "source": [
        "a = 300\n",
        "if a > 100 & a < 1000:\n",
        " print(f'{a} is greater than 100 and less than 1000.')"
      ],
      "metadata": {
        "id": "VhSA63Yz-x9Q",
        "colab": {
          "base_uri": "https://localhost:8080/"
        },
        "outputId": "861141e5-2c8d-40a2-9cc2-ade6a5341ffb"
      },
      "execution_count": 38,
      "outputs": [
        {
          "output_type": "stream",
          "name": "stdout",
          "text": [
            "300 is greater than 100 and less than 1000.\n"
          ]
        }
      ]
    },
    {
      "cell_type": "markdown",
      "source": [
        "# Task 4 Welcome Message\n",
        "\n",
        "- The following function takes a student name and id.\n",
        "- The function prints a message to welcome the student and show him/her his/her id.\n",
        "- The function is throwing an error! find out why this happened and solve this issue.\n",
        "- Fix this error by changing the function.\n"
      ],
      "metadata": {
        "id": "jdattlSuXJb9"
      }
    },
    {
      "cell_type": "code",
      "source": [
        "# Find and correct the error\n",
        "def Physics_Welcome_Message(name, id):\n",
        "  print(\"Hello \" + name + \"! Welcome to your Physics class. Your id is \" + id + \". We know you will rock.\")"
      ],
      "metadata": {
        "id": "AtNrOvEyIRlk"
      },
      "execution_count": 56,
      "outputs": []
    },
    {
      "cell_type": "markdown",
      "source": [
        "The solution:"
      ],
      "metadata": {
        "id": "7mLoJUNxv065"
      }
    },
    {
      "cell_type": "code",
      "source": [
        "def Physics_Welcome_Message(name, id):\n",
        "  print(\"Hello \" + name + \"! Welcome to your Physics class. Your id is \" + str(id) + \". We know you will rock.\")\n",
        "Physics_Welcome_Message('anas',999)"
      ],
      "metadata": {
        "colab": {
          "base_uri": "https://localhost:8080/"
        },
        "id": "B2nQb4Kfv72d",
        "outputId": "2c588c6e-ace0-4780-d3b2-de561c5bdf60"
      },
      "execution_count": 40,
      "outputs": [
        {
          "output_type": "stream",
          "name": "stdout",
          "text": [
            "Hello anas! Welcome to your Physics class. Your id is 999. We know you will rock.\n"
          ]
        }
      ]
    },
    {
      "cell_type": "markdown",
      "source": [
        "## Task 4 Test Case"
      ],
      "metadata": {
        "id": "-gK1s1YOn_52"
      }
    },
    {
      "cell_type": "code",
      "source": [
        "# this test case fails\n",
        "Physics_Welcome_Message(\"Jack\", 2022075)"
      ],
      "metadata": {
        "id": "ebC4s55CxPlE",
        "colab": {
          "base_uri": "https://localhost:8080/"
        },
        "outputId": "8bf8c8ce-aa55-4ab5-da51-dddb2aeb1d10"
      },
      "execution_count": 41,
      "outputs": [
        {
          "output_type": "stream",
          "name": "stdout",
          "text": [
            "Hello Jack! Welcome to your Physics class. Your id is 2022075. We know you will rock.\n"
          ]
        }
      ]
    },
    {
      "cell_type": "markdown",
      "source": [
        "# Task 5\n",
        "- The following function calculates the area for a circle. It's not working!\n",
        "- Find out why and get the function working."
      ],
      "metadata": {
        "id": "9iwb402VEMXX"
      }
    },
    {
      "cell_type": "code",
      "source": [
        "# Find and correct the error\n",
        "def circle_area(r):\n",
        "  PiConstantnumber = 3.1415926\n",
        "  area = r*r*Piconstantnumber\n",
        "  return area"
      ],
      "metadata": {
        "id": "xe4BxUoC2h6o"
      },
      "execution_count": 44,
      "outputs": []
    },
    {
      "cell_type": "markdown",
      "source": [
        "The solution:"
      ],
      "metadata": {
        "id": "U6yheDpuz65_"
      }
    },
    {
      "cell_type": "code",
      "source": [
        "def circle_area(r):\n",
        "  Piconstantnumber = 3.1415926\n",
        "  area = r*r*Piconstantnumber\n",
        "  return area"
      ],
      "metadata": {
        "id": "jLOXkdTTz9sX"
      },
      "execution_count": 46,
      "outputs": []
    },
    {
      "cell_type": "markdown",
      "source": [
        "## Task 5 Test Case"
      ],
      "metadata": {
        "id": "aSDrj74Qn-WG"
      }
    },
    {
      "cell_type": "code",
      "source": [
        "# This test case fails\n",
        "circle_area(6)"
      ],
      "metadata": {
        "id": "2v4Pro1520J0",
        "colab": {
          "base_uri": "https://localhost:8080/"
        },
        "outputId": "37af9923-b9b0-4338-9aba-493dd1cf0b0c"
      },
      "execution_count": 47,
      "outputs": [
        {
          "output_type": "execute_result",
          "data": {
            "text/plain": [
              "113.0973336"
            ]
          },
          "metadata": {},
          "execution_count": 47
        }
      ]
    },
    {
      "cell_type": "markdown",
      "source": [
        "# Task 6\n",
        "## Managing time\n",
        "- You want to divide up your free time evenly among your friends each weekend. Your free time and the friends you are trying to spend time with varies each weekend. num_hours is the number of free hours you can dedicate to friends, and num_friends is the number of friends you want to schedule time with.\n",
        "- The following function takes two numbers and return how much time you should spend with each friend.\n",
        "\n",
        "\n",
        "- Run the following test cases and make sure your function covers ALL test cases:\n",
        "1.   friends_time(8 , 2)\n",
        "2.   friends_time(0 , 3)\n",
        "3.   friends_time(7 , 0)\n",
        "\n",
        "Hint: This gives the error when num_friends equals 0. Consider including an if/else statement where if num_friends is 0, the function prints a statement such as \"No friends available this weekend.\" rather than performing the calculation.\n"
      ],
      "metadata": {
        "id": "g3kvBoka6EGT"
      }
    },
    {
      "cell_type": "code",
      "source": [
        "# Find and correct the error\n",
        "def friends_time(num_hours, num_friends):\n",
        "  print(f\"You should spend {round(num_hours/num_friends,2)} hours with each of your friends on the weekend.\")"
      ],
      "metadata": {
        "id": "7hs7fLs66mPJ"
      },
      "execution_count": 48,
      "outputs": []
    },
    {
      "cell_type": "markdown",
      "source": [
        "The solution:"
      ],
      "metadata": {
        "id": "yNj4XTy00uhF"
      }
    },
    {
      "cell_type": "code",
      "source": [
        "def friends_time(num_hours, num_friends):\n",
        "  if num_friends != 0:\n",
        "    print(f\"You should spend {round(num_hours/num_friends,2)} hours with each of your friends on the weekend.\")\n",
        "  else:\n",
        "    print('No friends available thies weekend')"
      ],
      "metadata": {
        "id": "Ae1GKQgL0uLi"
      },
      "execution_count": 57,
      "outputs": []
    },
    {
      "cell_type": "markdown",
      "source": [
        "## Task 6 Test Case"
      ],
      "metadata": {
        "id": "K-2yiBP0n7Rn"
      }
    },
    {
      "cell_type": "code",
      "source": [
        "# This test case fails\n",
        "friends_time(4 , 0)"
      ],
      "metadata": {
        "id": "8GWAzPf563gR",
        "colab": {
          "base_uri": "https://localhost:8080/"
        },
        "outputId": "3d521843-2164-4322-c767-ae0dc68621a5"
      },
      "execution_count": 59,
      "outputs": [
        {
          "output_type": "stream",
          "name": "stdout",
          "text": [
            "No friends available thies weekend\n"
          ]
        }
      ]
    },
    {
      "cell_type": "markdown",
      "source": [
        "Cases:"
      ],
      "metadata": {
        "id": "btQ5IEZX1DZb"
      }
    },
    {
      "cell_type": "code",
      "source": [
        "# Case one\n",
        "friends_time(8,2)"
      ],
      "metadata": {
        "colab": {
          "base_uri": "https://localhost:8080/"
        },
        "id": "WSPXm9Oo1C-e",
        "outputId": "88eeeca1-aaff-4865-9db9-bbd1056db039"
      },
      "execution_count": 58,
      "outputs": [
        {
          "output_type": "stream",
          "name": "stdout",
          "text": [
            "You should spend 4.0 hours with each of your friends on the weekend.\n"
          ]
        }
      ]
    },
    {
      "cell_type": "code",
      "source": [
        "# Case two\n",
        "friends_time(0,3)"
      ],
      "metadata": {
        "colab": {
          "base_uri": "https://localhost:8080/"
        },
        "id": "OzBAN5Vv1TCo",
        "outputId": "af92ed27-838f-4702-f618-1cffa5c6d257"
      },
      "execution_count": 54,
      "outputs": [
        {
          "output_type": "stream",
          "name": "stdout",
          "text": [
            "You should spend 0.0 hours with each of your friends on the weekend.\n"
          ]
        }
      ]
    },
    {
      "cell_type": "code",
      "source": [
        "# Case three\n",
        "friends_time(7,0)"
      ],
      "metadata": {
        "colab": {
          "base_uri": "https://localhost:8080/"
        },
        "id": "Bv1Ks--l1b79",
        "outputId": "a4ed6413-e3ef-4366-c1a4-0beef8f2c0ac"
      },
      "execution_count": 55,
      "outputs": [
        {
          "output_type": "stream",
          "name": "stdout",
          "text": [
            "No friends available thies weekend\n"
          ]
        }
      ]
    }
  ]
}